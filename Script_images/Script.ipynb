{
 "cells": [
  {
   "cell_type": "markdown",
   "metadata": {},
   "source": [
    "# Scraper plusieurs pages"
   ]
  },
  {
   "cell_type": "code",
   "execution_count": 11,
   "metadata": {},
   "outputs": [
    {
     "name": "stdout",
     "output_type": "stream",
     "text": [
      "Téléchargé : ./images/image_f49.jpg\n",
      "Téléchargé : ./images/image_f50.jpg\n",
      "Téléchargé : ./images/image_f51.jpg\n",
      "Téléchargé : ./images/image_f52.jpg\n",
      "Erreur 429 pour l'URL : https://gallica.bnf.fr/iiif/ark:/12148/bpt6k15082862/f53/full/full/0/native.jpg\n",
      "Téléchargé : ./images/image_f54.jpg\n",
      "Téléchargé : ./images/image_f55.jpg\n",
      "Téléchargé : ./images/image_f56.jpg\n",
      "Téléchargé : ./images/image_f57.jpg\n",
      "Erreur 429 pour l'URL : https://gallica.bnf.fr/iiif/ark:/12148/bpt6k15082862/f58/full/full/0/native.jpg\n"
     ]
    },
    {
     "ename": "KeyboardInterrupt",
     "evalue": "",
     "output_type": "error",
     "traceback": [
      "\u001b[0;31m---------------------------------------------------------------------------\u001b[0m",
      "\u001b[0;31mKeyboardInterrupt\u001b[0m                         Traceback (most recent call last)",
      "Cell \u001b[0;32mIn[11], line 37\u001b[0m\n\u001b[1;32m     35\u001b[0m     \u001b[38;5;28;01melse\u001b[39;00m:\n\u001b[1;32m     36\u001b[0m         \u001b[38;5;28mprint\u001b[39m(\u001b[38;5;124mf\u001b[39m\u001b[38;5;124m\"\u001b[39m\u001b[38;5;124mErreur \u001b[39m\u001b[38;5;132;01m{\u001b[39;00mresponse\u001b[38;5;241m.\u001b[39mstatus_code\u001b[38;5;132;01m}\u001b[39;00m\u001b[38;5;124m pour l\u001b[39m\u001b[38;5;124m'\u001b[39m\u001b[38;5;124mURL : \u001b[39m\u001b[38;5;132;01m{\u001b[39;00murl\u001b[38;5;132;01m}\u001b[39;00m\u001b[38;5;124m\"\u001b[39m)\n\u001b[0;32m---> 37\u001b[0m         \u001b[43mtime\u001b[49m\u001b[38;5;241;43m.\u001b[39;49m\u001b[43msleep\u001b[49m\u001b[43m(\u001b[49m\u001b[43mdelay2\u001b[49m\u001b[43m)\u001b[49m\n\u001b[1;32m     38\u001b[0m         response \u001b[38;5;241m=\u001b[39m requests\u001b[38;5;241m.\u001b[39mget(url, headers\u001b[38;5;241m=\u001b[39mheaders)\n\u001b[1;32m     39\u001b[0m \u001b[38;5;28;01mexcept\u001b[39;00m \u001b[38;5;167;01mException\u001b[39;00m \u001b[38;5;28;01mas\u001b[39;00m e:\n",
      "\u001b[0;31mKeyboardInterrupt\u001b[0m: "
     ]
    }
   ],
   "source": [
    "import requests\n",
    "import time\n",
    "\n",
    "# URL de base\n",
    "base_url = \"https://gallica.bnf.fr/iiif/ark:/12148/bpt6k15082862/f{page}/full/full/0/native.jpg\"\n",
    "\n",
    "# Répertoire de sauvegarde (changez le chemin selon vos besoins)\n",
    "output_folder = \"./images/\"\n",
    "\n",
    "# Plage de pages\n",
    "start_page = 49\n",
    "end_page = 100\n",
    "\n",
    "# délai de 5 secondes\n",
    "delay = 5\n",
    "delay2 = 15\n",
    "\n",
    "max_retries = 3\n",
    "\n",
    "\n",
    "# Le header\n",
    "headers = {\n",
    "    \"User-Agent\": \"Mozilla/5.0 (Windows NT 10.0; Win64; x64) AppleWebKit/537.36 (KHTML, like Gecko) Chrome/114.0.0.0 Safari/537.36\"\n",
    "}\n",
    "\n",
    "\n",
    "# Télécharger les images\n",
    "for page in range(start_page, end_page + 1):\n",
    "    url = base_url.format(page=page)\n",
    "    filename = f\"{output_folder}image_f{page}.jpg\"\n",
    "    attempts = 0\n",
    "    \n",
    "    while attempts < max_retries:\n",
    "        try:\n",
    "            response = requests.get(url, headers=headers)\n",
    "            if response.status_code == 200:\n",
    "                with open(filename, 'wb') as file:\n",
    "                    file.write(response.content)\n",
    "                print(f\"Téléchargé : {filename}\")\n",
    "            else:\n",
    "                print(f\"Erreur {response.status_code} pour l'URL : {url}\")\n",
    "                time.sleep(delay2)\n",
    "                response = requests.get(url, headers=headers)\n",
    "        except Exception as e:\n",
    "            print(f\"Erreur lors du téléchargement de {url} : {e}\")\n",
    "            break\n",
    "\n",
    "    time.sleep(delay)"
   ]
  },
  {
   "cell_type": "markdown",
   "metadata": {},
   "source": [
    "# Scraper 1 page"
   ]
  },
  {
   "cell_type": "code",
   "execution_count": 13,
   "metadata": {},
   "outputs": [
    {
     "name": "stdout",
     "output_type": "stream",
     "text": [
      "Téléchargé : ./images/image_f53.jpg\n"
     ]
    }
   ],
   "source": [
    "import requests\n",
    "\n",
    "# URL de base\n",
    "base_url = \"https://gallica.bnf.fr/iiif/ark:/12148/bpt6k15082862/f{page}/full/full/0/native.jpg\"\n",
    "\n",
    "# Répertoire de sauvegarde (changez le chemin selon vos besoins)\n",
    "output_folder = \"./images/\"\n",
    "\n",
    "# Plage de pages\n",
    "lapage = 53\n",
    "\n",
    "# Le header\n",
    "headers = {\n",
    "    \"User-Agent\": \"Mozilla/5.0 (Windows NT 10.0; Win64; x64) AppleWebKit/537.36 (KHTML, like Gecko) Chrome/114.0.0.0 Safari/537.36\"\n",
    "}\n",
    "\n",
    "\n",
    "# Télécharger les images\n",
    "\n",
    "def scraper(page):\n",
    "    url = base_url.format(page=page)\n",
    "    filename = f\"{output_folder}image_f{page}.jpg\"\n",
    "\n",
    "    try:\n",
    "        response = requests.get(url, headers=headers)\n",
    "        if response.status_code == 200:\n",
    "            with open(filename, 'wb') as file:\n",
    "                file.write(response.content)\n",
    "            print(f\"Téléchargé : {filename}\")\n",
    "        else:\n",
    "            print(f\"Erreur {response.status_code} pour l'URL : {url}\")\n",
    "            time.sleep(delay2)\n",
    "            response = requests.get(url, headers=headers)\n",
    "    except Exception as e:\n",
    "        print(f\"Erreur lors du téléchargement de {url} : {e}\")\n",
    "    \n",
    "    return\n",
    "\n",
    "scraper(lapage)\n"
   ]
  }
 ],
 "metadata": {
  "kernelspec": {
   "display_name": "Python 3",
   "language": "python",
   "name": "python3"
  },
  "language_info": {
   "codemirror_mode": {
    "name": "ipython",
    "version": 3
   },
   "file_extension": ".py",
   "mimetype": "text/x-python",
   "name": "python",
   "nbconvert_exporter": "python",
   "pygments_lexer": "ipython3",
   "version": "3.10.12"
  }
 },
 "nbformat": 4,
 "nbformat_minor": 2
}
